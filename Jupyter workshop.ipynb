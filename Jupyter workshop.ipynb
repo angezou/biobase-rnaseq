{
 "cells": [
  {
   "cell_type": "code",
   "execution_count": 1,
   "metadata": {
    "collapsed": false
   },
   "outputs": [
    {
     "name": "stdout",
     "output_type": "stream",
     "text": [
      "[1] \"Hello World\"\n"
     ]
    }
   ],
   "source": [
    "a <- \"Hello World\"\n",
    "print(a)"
   ]
  },
  {
   "cell_type": "code",
   "execution_count": 2,
   "metadata": {
    "collapsed": false
   },
   "outputs": [
    {
     "data": {
      "text/html": [
       "\"Hello World\""
      ],
      "text/latex": [
       "\"Hello World\""
      ],
      "text/markdown": [
       "\"Hello World\""
      ],
      "text/plain": [
       "[1] \"Hello World\""
      ]
     },
     "metadata": {},
     "output_type": "display_data"
    }
   ],
   "source": [
    "a"
   ]
  },
  {
   "cell_type": "code",
   "execution_count": 3,
   "metadata": {
    "collapsed": true
   },
   "outputs": [],
   "source": [
    "x <- 5\n",
    "y<- 10"
   ]
  },
  {
   "cell_type": "code",
   "execution_count": 4,
   "metadata": {
    "collapsed": false
   },
   "outputs": [
    {
     "name": "stdout",
     "output_type": "stream",
     "text": [
      "[1] 15\n"
     ]
    }
   ],
   "source": [
    "print(x+y)"
   ]
  },
  {
   "cell_type": "code",
   "execution_count": 5,
   "metadata": {
    "collapsed": true
   },
   "outputs": [],
   "source": [
    "y<-20"
   ]
  },
  {
   "cell_type": "code",
   "execution_count": 6,
   "metadata": {
    "collapsed": true
   },
   "outputs": [],
   "source": [
    "time <- seq(from = 0, to = 4*pi, length.out = 100)\n",
    "intensity <- exp(sin(sin(time)))"
   ]
  },
  {
   "cell_type": "code",
   "execution_count": 7,
   "metadata": {
    "collapsed": false
   },
   "outputs": [
    {
     "data": {
      "image/png": "[encoded data removed]",
      "text/plain": [
       "plot without title"
      ]
     },
     "metadata": {
      "image/svg+xml": {
       "isolated": true
      }
     },
     "output_type": "display_data"
    }
   ],
   "source": [
    "plot(time,intensity)"
   ]
  },
  {
   "cell_type": "code",
   "execution_count": 8,
   "metadata": {
    "collapsed": false
   },
   "outputs": [
    {
     "name": "stderr",
     "output_type": "stream",
     "text": [
      "Warning message:\n",
      ": package 'ggplot2' was built under R version 3.2.5"
     ]
    }
   ],
   "source": [
    "library(ggplot2)"
   ]
  },
  {
   "cell_type": "code",
   "execution_count": 11,
   "metadata": {
    "collapsed": false
   },
   "outputs": [
    {
     "ename": "ERROR",
     "evalue": "Error in if (is.waive(data) || empty(data)) return(cbind(data, PANEL = integer(0))): missing value where TRUE/FALSE needed\n",
     "output_type": "error",
     "traceback": [
      "Error in if (is.waive(data) || empty(data)) return(cbind(data, PANEL = integer(0))): missing value where TRUE/FALSE needed\nTraceback:\n",
      "1. repr_text(obj)",
      "2. repr_text.default(obj)",
      "3. paste(utils::capture.output(print(obj)), collapse = \"\\n\")",
      "4. utils::capture.output(print(obj))",
      "5. evalVis(expr)",
      "6. withVisible(eval(expr, pf))",
      "7. eval(expr, pf)",
      "8. eval(expr, envir, enclos)",
      "9. print(obj)",
      "10. print.ggplot(obj)",
      "11. ggplot_build(x)",
      "12. map_layout(panel, plot$facet, layer_data)",
      "13. lapply(data, function(data) {\n  .     facet_map_layout(facet, data, panel$layout)\n  . })",
      "14. FUN(X[[i]], ...)",
      "15. facet_map_layout(facet, data, panel$layout)",
      "16. facet_map_layout.null(facet, data, panel$layout)"
     ]
    },
    {
     "data": {
      "image/png": "[encoded data removed]",
      "text/plain": [
       "plot without title"
      ]
     },
     "metadata": {
      "image/svg+xml": {
       "isolated": true
      }
     },
     "output_type": "display_data"
    }
   ],
   "source": [
    "ggplot(df) + geom_point(aes(x,y))"
   ]
  },
  {
   "cell_type": "code",
   "execution_count": 10,
   "metadata": {
    "collapsed": false
   },
   "outputs": [
    {
     "name": "stdout",
     "output_type": "stream",
     "text": [
      "[1] 25\n"
     ]
    }
   ],
   "source": [
    "print(x+y)"
   ]
  },
  {
   "cell_type": "code",
   "execution_count": 17,
   "metadata": {
    "collapsed": false
   },
   "outputs": [],
   "source": [
    "data <- read.csv(\"important-data.csv\")"
   ]
  },
  {
   "cell_type": "code",
   "execution_count": 18,
   "metadata": {
    "collapsed": false
   },
   "outputs": [
    {
     "data": {
      "text/html": [
       "<table>\n",
       "<thead><tr><th></th><th scope=col>name</th><th scope=col>age</th><th scope=col>type</th><th scope=col>charged</th></tr></thead>\n",
       "<tbody>\n",
       "\t<tr><th scope=row>1</th><td>Sammy</td><td>2    </td><td> dog </td><td> TRUE</td></tr>\n",
       "\t<tr><th scope=row>2</th><td>Harvey </td><td>3      </td><td> roomba</td><td> TRUE  </td></tr>\n",
       "\t<tr><th scope=row>3</th><td>Jonathan</td><td>99      </td><td> human  </td><td> FALSE  </td></tr>\n",
       "</tbody>\n",
       "</table>\n"
      ],
      "text/latex": [
       "\\begin{tabular}{r|llll}\n",
       "  & name & age & type & charged\\\\\n",
       "\\hline\n",
       "\t1 & Sammy & 2     &  dog  &  TRUE\\\\\n",
       "\t2 & Harvey  & 3       &  roomba &  TRUE  \\\\\n",
       "\t3 & Jonathan & 99       &  human   &  FALSE  \\\\\n",
       "\\end{tabular}\n"
      ],
      "text/plain": [
       "      name age    type charged\n",
       "1    Sammy   2     dog    TRUE\n",
       "2   Harvey   3  roomba    TRUE\n",
       "3 Jonathan  99   human   FALSE"
      ]
     },
     "metadata": {},
     "output_type": "display_data"
    }
   ],
   "source": [
    "data"
   ]
  },
  {
   "cell_type": "markdown",
   "metadata": {},
   "source": [
    "Super helpful explanatory text "
   ]
  },
  {
   "cell_type": "markdown",
   "metadata": {},
   "source": [
    "# Title\n",
    "Overall text\n",
    "## Sub-title"
   ]
  },
  {
   "cell_type": "markdown",
   "metadata": {},
   "source": [
    "we can do _italics_ and we can do **bold**"
   ]
  },
  {
   "cell_type": "markdown",
   "metadata": {},
   "source": [
    "We can do bulleted lists like this:\n",
    "- List item 1\n",
    "- List item 2\n",
    "    - List item 2.1\n",
    "\n",
    "$ax^2 +bx +c$"
   ]
  },
  {
   "cell_type": "code",
   "execution_count": null,
   "metadata": {
    "collapsed": false
   },
   "outputs": [],
   "source": [
    "\n",
    "\n",
    "suppressPackageStartupMessages(library(Biobase))"
   ]
  },
  {
   "cell_type": "code",
   "execution_count": 23,
   "metadata": {
    "collapsed": true
   },
   "outputs": [],
   "source": [
    "data(geneData)\n",
    "data(geneCovariate)"
   ]
  },
  {
   "cell_type": "code",
   "execution_count": 24,
   "metadata": {
    "collapsed": false
   },
   "outputs": [
    {
     "data": {
      "text/html": [
       "<table>\n",
       "<thead><tr><th></th><th scope=col>A</th><th scope=col>B</th><th scope=col>C</th><th scope=col>D</th><th scope=col>E</th><th scope=col>F</th><th scope=col>G</th><th scope=col>H</th><th scope=col>I</th><th scope=col>J</th><th scope=col>...</th><th scope=col>Q</th><th scope=col>R</th><th scope=col>S</th><th scope=col>T</th><th scope=col>U</th><th scope=col>V</th><th scope=col>W</th><th scope=col>X</th><th scope=col>Y</th><th scope=col>Z</th></tr></thead>\n",
       "<tbody>\n",
       "\t<tr><th scope=row>AFFX-MurIL2_at</th><td>192.742</td><td>85.7533</td><td>176.757</td><td>135.575</td><td>64.4939</td><td>76.3569</td><td>160.505</td><td>65.9631</td><td>56.9039</td><td>135.608</td><td>...    </td><td>179.845</td><td>152.467</td><td>180.834</td><td>85.4146</td><td>157.989</td><td>146.8  </td><td>93.8829</td><td>103.855</td><td>64.434 </td><td>175.615</td></tr>\n",
       "\t<tr><th scope=row>AFFX-MurIL10_at</th><td>97.137  </td><td>126.196 </td><td>77.9216 </td><td>93.3713 </td><td>24.3986 </td><td>85.5088 </td><td>98.9086 </td><td>81.6932 </td><td>97.8015 </td><td>90.4838 </td><td>...     </td><td>87.6806 </td><td>108.032 </td><td>134.263 </td><td>91.4031 </td><td>-8.68811</td><td>85.0212 </td><td>79.2998 </td><td>71.6552 </td><td>64.2369 </td><td>78.7068 </td></tr>\n",
       "\t<tr><th scope=row>AFFX-MurIL4_at</th><td>45.8192</td><td>8.83135</td><td>33.0632</td><td>28.7072</td><td>5.94492</td><td>28.2925</td><td>30.9694</td><td>14.7923</td><td>14.2399</td><td>34.4874</td><td>...    </td><td>32.7911</td><td>33.5292</td><td>19.8172</td><td>20.419 </td><td>26.872 </td><td>31.1488</td><td>22.342 </td><td>19.0135</td><td>12.1686</td><td>17.378 </td></tr>\n",
       "\t<tr><th scope=row>AFFX-MurFAS_at</th><td>22.5445 </td><td>3.60093 </td><td>14.6883 </td><td>12.3397 </td><td>36.8663 </td><td>11.2568 </td><td>23.0034 </td><td>16.2134 </td><td>12.0375 </td><td>4.54978 </td><td>...     </td><td>15.9488 </td><td>14.6753 </td><td>-7.91911</td><td>12.8875 </td><td>11.9186 </td><td>12.8324 </td><td>11.139  </td><td>7.55564 </td><td>19.9849 </td><td>8.96849 </td></tr>\n",
       "\t<tr><th scope=row>AFFX-BioB-5_at</th><td>96.7875</td><td>30.438 </td><td>46.1271</td><td>70.9319</td><td>56.1744</td><td>42.6756</td><td>86.5156</td><td>30.7927</td><td>19.7183</td><td>46.352 </td><td>...    </td><td>58.6239</td><td>114.062</td><td>93.4402</td><td>22.5168</td><td>48.6462</td><td>90.2215</td><td>42.0053</td><td>57.5738</td><td>44.8216</td><td>61.7044</td></tr>\n",
       "\t<tr><th scope=row>AFFX-BioB-M_at</th><td>89.073 </td><td>25.8461</td><td>57.2033</td><td>69.9766</td><td>49.5822</td><td>26.1262</td><td>75.0083</td><td>42.3352</td><td>41.1207</td><td>91.5307</td><td>...    </td><td>58.1331</td><td>104.122</td><td>115.831</td><td>58.1224</td><td>73.4221</td><td>64.6066</td><td>40.3068</td><td>41.8209</td><td>46.1087</td><td>49.4122</td></tr>\n",
       "</tbody>\n",
       "</table>\n"
      ],
      "text/latex": [
       "\\begin{tabular}{r|llllllllllllllllllllllllll}\n",
       "  & A & B & C & D & E & F & G & H & I & J & ... & Q & R & S & T & U & V & W & X & Y & Z\\\\\n",
       "\\hline\n",
       "\tAFFX-MurIL2\\_at & 192.742 & 85.7533 & 176.757 & 135.575 & 64.4939 & 76.3569 & 160.505 & 65.9631 & 56.9039 & 135.608 & ...     & 179.845 & 152.467 & 180.834 & 85.4146 & 157.989 & 146.8   & 93.8829 & 103.855 & 64.434  & 175.615\\\\\n",
       "\tAFFX-MurIL10\\_at & 97.137   & 126.196  & 77.9216  & 93.3713  & 24.3986  & 85.5088  & 98.9086  & 81.6932  & 97.8015  & 90.4838  & ...      & 87.6806  & 108.032  & 134.263  & 91.4031  & -8.68811 & 85.0212  & 79.2998  & 71.6552  & 64.2369  & 78.7068 \\\\\n",
       "\tAFFX-MurIL4\\_at & 45.8192 & 8.83135 & 33.0632 & 28.7072 & 5.94492 & 28.2925 & 30.9694 & 14.7923 & 14.2399 & 34.4874 & ...     & 32.7911 & 33.5292 & 19.8172 & 20.419  & 26.872  & 31.1488 & 22.342  & 19.0135 & 12.1686 & 17.378 \\\\\n",
       "\tAFFX-MurFAS\\_at & 22.5445  & 3.60093  & 14.6883  & 12.3397  & 36.8663  & 11.2568  & 23.0034  & 16.2134  & 12.0375  & 4.54978  & ...      & 15.9488  & 14.6753  & -7.91911 & 12.8875  & 11.9186  & 12.8324  & 11.139   & 7.55564  & 19.9849  & 8.96849 \\\\\n",
       "\tAFFX-BioB-5\\_at & 96.7875 & 30.438  & 46.1271 & 70.9319 & 56.1744 & 42.6756 & 86.5156 & 30.7927 & 19.7183 & 46.352  & ...     & 58.6239 & 114.062 & 93.4402 & 22.5168 & 48.6462 & 90.2215 & 42.0053 & 57.5738 & 44.8216 & 61.7044\\\\\n",
       "\tAFFX-BioB-M\\_at & 89.073  & 25.8461 & 57.2033 & 69.9766 & 49.5822 & 26.1262 & 75.0083 & 42.3352 & 41.1207 & 91.5307 & ...     & 58.1331 & 104.122 & 115.831 & 58.1224 & 73.4221 & 64.6066 & 40.3068 & 41.8209 & 46.1087 & 49.4122\\\\\n",
       "\\end{tabular}\n"
      ],
      "text/markdown": [
       "1. 192.742\n",
       "2. 97.137\n",
       "3. 45.8192\n",
       "4. 22.5445\n",
       "5. 96.7875\n",
       "6. 89.073\n",
       "7. 85.7533\n",
       "8. 126.196\n",
       "9. 8.83135\n",
       "10. 3.60093\n",
       "11. 30.438\n",
       "12. 25.8461\n",
       "13. 176.757\n",
       "14. 77.9216\n",
       "15. 33.0632\n",
       "16. 14.6883\n",
       "17. 46.1271\n",
       "18. 57.2033\n",
       "19. 135.575\n",
       "20. 93.3713\n",
       "21. 28.7072\n",
       "22. 12.3397\n",
       "23. 70.9319\n",
       "24. 69.9766\n",
       "25. 64.4939\n",
       "26. 24.3986\n",
       "27. 5.94492\n",
       "28. 36.8663\n",
       "29. 56.1744\n",
       "30. 49.5822\n",
       "31. 76.3569\n",
       "32. 85.5088\n",
       "33. 28.2925\n",
       "34. 11.2568\n",
       "35. 42.6756\n",
       "36. 26.1262\n",
       "37. 160.505\n",
       "38. 98.9086\n",
       "39. 30.9694\n",
       "40. 23.0034\n",
       "41. 86.5156\n",
       "42. 75.0083\n",
       "43. 65.9631\n",
       "44. 81.6932\n",
       "45. 14.7923\n",
       "46. 16.2134\n",
       "47. 30.7927\n",
       "48. 42.3352\n",
       "49. 56.9039\n",
       "50. 97.8015\n",
       "51. 14.2399\n",
       "52. 12.0375\n",
       "53. 19.7183\n",
       "54. 41.1207\n",
       "55. 135.608\n",
       "56. 90.4838\n",
       "57. 34.4874\n",
       "58. 4.54978\n",
       "59. 46.352\n",
       "60. 91.5307\n",
       "61. 63.4432\n",
       "62. 70.5733\n",
       "63. 20.3521\n",
       "64. 8.51782\n",
       "65. 39.1326\n",
       "66. 39.9136\n",
       "67. 78.2126\n",
       "68. 94.5418\n",
       "69. 14.1554\n",
       "70. 27.2852\n",
       "71. 41.7698\n",
       "72. 49.8397\n",
       "73. 83.0943\n",
       "74. 75.3455\n",
       "75. 20.6251\n",
       "76. 10.1616\n",
       "77. 80.2197\n",
       "78. 63.4794\n",
       "79. 89.3372\n",
       "80. 68.5827\n",
       "81. 15.9231\n",
       "82. 20.2488\n",
       "83. 36.4903\n",
       "84. 24.7007\n",
       "85. 91.0615\n",
       "86. 87.405\n",
       "87. 20.1579\n",
       "88. 15.7849\n",
       "89. 36.4021\n",
       "90. 47.4641\n",
       "91. 95.9377\n",
       "92. 84.4581\n",
       "93. 27.8139\n",
       "94. 14.3276\n",
       "95. 35.3054\n",
       "96. 47.3578\n",
       "97. 179.845\n",
       "98. 87.6806\n",
       "99. 32.7911\n",
       "100. 15.9488\n",
       "101. 58.6239\n",
       "102. 58.1331\n",
       "103. 152.467\n",
       "104. 108.032\n",
       "105. 33.5292\n",
       "106. 14.6753\n",
       "107. 114.062\n",
       "108. 104.122\n",
       "109. 180.834\n",
       "110. 134.263\n",
       "111. 19.8172\n",
       "112. -7.91911\n",
       "113. 93.4402\n",
       "114. 115.831\n",
       "115. 85.4146\n",
       "116. 91.4031\n",
       "117. 20.419\n",
       "118. 12.8875\n",
       "119. 22.5168\n",
       "120. 58.1224\n",
       "121. 157.989\n",
       "122. -8.68811\n",
       "123. 26.872\n",
       "124. 11.9186\n",
       "125. 48.6462\n",
       "126. 73.4221\n",
       "127. 146.8\n",
       "128. 85.0212\n",
       "129. 31.1488\n",
       "130. 12.8324\n",
       "131. 90.2215\n",
       "132. 64.6066\n",
       "133. 93.8829\n",
       "134. 79.2998\n",
       "135. 22.342\n",
       "136. 11.139\n",
       "137. 42.0053\n",
       "138. 40.3068\n",
       "139. 103.855\n",
       "140. 71.6552\n",
       "141. 19.0135\n",
       "142. 7.55564\n",
       "143. 57.5738\n",
       "144. 41.8209\n",
       "145. 64.434\n",
       "146. 64.2369\n",
       "147. 12.1686\n",
       "148. 19.9849\n",
       "149. 44.8216\n",
       "150. 46.1087\n",
       "151. 175.615\n",
       "152. 78.7068\n",
       "153. 17.378\n",
       "154. 8.96849\n",
       "155. 61.7044\n",
       "156. 49.4122\n",
       "\n",
       "\n"
      ],
      "text/plain": [
       "                A         B         C         D         E         F        \n",
       "AFFX-MurIL2_at  \"192.742\" \"85.7533\" \"176.757\" \"135.575\" \"64.4939\" \"76.3569\"\n",
       "AFFX-MurIL10_at \"97.137\"  \"126.196\" \"77.9216\" \"93.3713\" \"24.3986\" \"85.5088\"\n",
       "AFFX-MurIL4_at  \"45.8192\" \"8.83135\" \"33.0632\" \"28.7072\" \"5.94492\" \"28.2925\"\n",
       "AFFX-MurFAS_at  \"22.5445\" \"3.60093\" \"14.6883\" \"12.3397\" \"36.8663\" \"11.2568\"\n",
       "AFFX-BioB-5_at  \"96.7875\" \"30.438\"  \"46.1271\" \"70.9319\" \"56.1744\" \"42.6756\"\n",
       "AFFX-BioB-M_at  \"89.073\"  \"25.8461\" \"57.2033\" \"69.9766\" \"49.5822\" \"26.1262\"\n",
       "                G         H         I         J         ...   Q        \n",
       "AFFX-MurIL2_at  \"160.505\" \"65.9631\" \"56.9039\" \"135.608\" \"...\" \"179.845\"\n",
       "AFFX-MurIL10_at \"98.9086\" \"81.6932\" \"97.8015\" \"90.4838\" \"...\" \"87.6806\"\n",
       "AFFX-MurIL4_at  \"30.9694\" \"14.7923\" \"14.2399\" \"34.4874\" \"...\" \"32.7911\"\n",
       "AFFX-MurFAS_at  \"23.0034\" \"16.2134\" \"12.0375\" \"4.54978\" \"...\" \"15.9488\"\n",
       "AFFX-BioB-5_at  \"86.5156\" \"30.7927\" \"19.7183\" \"46.352\"  \"...\" \"58.6239\"\n",
       "AFFX-BioB-M_at  \"75.0083\" \"42.3352\" \"41.1207\" \"91.5307\" \"...\" \"58.1331\"\n",
       "                R         S          T         U          V         W        \n",
       "AFFX-MurIL2_at  \"152.467\" \"180.834\"  \"85.4146\" \"157.989\"  \"146.8\"   \"93.8829\"\n",
       "AFFX-MurIL10_at \"108.032\" \"134.263\"  \"91.4031\" \"-8.68811\" \"85.0212\" \"79.2998\"\n",
       "AFFX-MurIL4_at  \"33.5292\" \"19.8172\"  \"20.419\"  \"26.872\"   \"31.1488\" \"22.342\" \n",
       "AFFX-MurFAS_at  \"14.6753\" \"-7.91911\" \"12.8875\" \"11.9186\"  \"12.8324\" \"11.139\" \n",
       "AFFX-BioB-5_at  \"114.062\" \"93.4402\"  \"22.5168\" \"48.6462\"  \"90.2215\" \"42.0053\"\n",
       "AFFX-BioB-M_at  \"104.122\" \"115.831\"  \"58.1224\" \"73.4221\"  \"64.6066\" \"40.3068\"\n",
       "                X         Y         Z        \n",
       "AFFX-MurIL2_at  \"103.855\" \"64.434\"  \"175.615\"\n",
       "AFFX-MurIL10_at \"71.6552\" \"64.2369\" \"78.7068\"\n",
       "AFFX-MurIL4_at  \"19.0135\" \"12.1686\" \"17.378\" \n",
       "AFFX-MurFAS_at  \"7.55564\" \"19.9849\" \"8.96849\"\n",
       "AFFX-BioB-5_at  \"57.5738\" \"44.8216\" \"61.7044\"\n",
       "AFFX-BioB-M_at  \"41.8209\" \"46.1087\" \"49.4122\""
      ]
     },
     "metadata": {},
     "output_type": "display_data"
    }
   ],
   "source": [
    "head(geneData)"
   ]
  },
  {
   "cell_type": "code",
   "execution_count": 25,
   "metadata": {
    "collapsed": false
   },
   "outputs": [
    {
     "data": {
      "text/html": [
       "<table>\n",
       "<thead><tr><th></th><th scope=col>sex</th><th scope=col>type</th><th scope=col>score</th></tr></thead>\n",
       "<tbody>\n",
       "\t<tr><th scope=row>A</th><td>Female </td><td>Control</td><td>0.75   </td></tr>\n",
       "\t<tr><th scope=row>B</th><td>Male</td><td>Case</td><td>0.4 </td></tr>\n",
       "\t<tr><th scope=row>C</th><td>Male   </td><td>Control</td><td>0.73   </td></tr>\n",
       "\t<tr><th scope=row>D</th><td>Male</td><td>Case</td><td>0.42</td></tr>\n",
       "\t<tr><th scope=row>E</th><td>Female</td><td>Case  </td><td>0.93  </td></tr>\n",
       "\t<tr><th scope=row>F</th><td>Male   </td><td>Control</td><td>0.22   </td></tr>\n",
       "</tbody>\n",
       "</table>\n"
      ],
      "text/latex": [
       "\\begin{tabular}{r|lll}\n",
       "  & sex & type & score\\\\\n",
       "\\hline\n",
       "\tA & Female  & Control & 0.75   \\\\\n",
       "\tB & Male & Case & 0.4 \\\\\n",
       "\tC & Male    & Control & 0.73   \\\\\n",
       "\tD & Male & Case & 0.42\\\\\n",
       "\tE & Female & Case   & 0.93  \\\\\n",
       "\tF & Male    & Control & 0.22   \\\\\n",
       "\\end{tabular}\n"
      ],
      "text/plain": [
       "     sex    type score\n",
       "A Female Control  0.75\n",
       "B   Male    Case  0.40\n",
       "C   Male Control  0.73\n",
       "D   Male    Case  0.42\n",
       "E Female    Case  0.93\n",
       "F   Male Control  0.22"
      ]
     },
     "metadata": {},
     "output_type": "display_data"
    }
   ],
   "source": [
    "head(geneCovariate)"
   ]
  },
  {
   "cell_type": "code",
   "execution_count": 27,
   "metadata": {
    "collapsed": false
   },
   "outputs": [
    {
     "data": {
      "text/html": [
       "<table>\n",
       "<thead><tr><th></th><th scope=col>A</th><th scope=col>B</th><th scope=col>C</th><th scope=col>D</th><th scope=col>E</th><th scope=col>F</th><th scope=col>G</th><th scope=col>H</th><th scope=col>I</th><th scope=col>J</th><th scope=col>...</th><th scope=col>Q</th><th scope=col>R</th><th scope=col>S</th><th scope=col>T</th><th scope=col>U</th><th scope=col>V</th><th scope=col>W</th><th scope=col>X</th><th scope=col>Y</th><th scope=col>Z</th></tr></thead>\n",
       "<tbody>\n",
       "\t<tr><th scope=row>A</th><td>1                </td><td>0.947159092562376</td><td>0.919123317622688</td><td>0.940312893075999</td><td>0.968969036868078</td><td>0.962136179182944</td><td>0.952981126886564</td><td>0.916752602844474</td><td>0.951295122859762</td><td>0.955163269383225</td><td>...              </td><td>0.9266419264427  </td><td>0.835195926743581</td><td>0.936732990299943</td><td>0.93614632377337 </td><td>0.956156175751354</td><td>0.966105366098652</td><td>0.975602495494197</td><td>0.928043238365868</td><td>0.961906866425959</td><td>0.852182433635628</td></tr>\n",
       "\t<tr><th scope=row>B</th><td>0.947159092562376</td><td>1                </td><td>0.888810759251452</td><td>0.910817350248067</td><td>0.970390572536258</td><td>0.942524750578641</td><td>0.929430756040964</td><td>0.939506723650277</td><td>0.95983017708102 </td><td>0.904016010919656</td><td>...              </td><td>0.906692103012125</td><td>0.807661979991662</td><td>0.894521959646583</td><td>0.934705811227172</td><td>0.935622080511657</td><td>0.92844037841564 </td><td>0.955305023029676</td><td>0.904557492037692</td><td>0.984965603335701</td><td>0.877175424415441</td></tr>\n",
       "\t<tr><th scope=row>C</th><td>0.919123317622688</td><td>0.888810759251452</td><td>1                </td><td>0.878810716157877</td><td>0.90772448231779 </td><td>0.907897120197029</td><td>0.896533083823875</td><td>0.849149564496211</td><td>0.866683916456713</td><td>0.918002233890068</td><td>...              </td><td>0.856385096673793</td><td>0.78675070223254 </td><td>0.861003477938746</td><td>0.871198436128374</td><td>0.914376990742477</td><td>0.898373045025782</td><td>0.914353933678149</td><td>0.869468454952244</td><td>0.903726416573883</td><td>0.777788947841396</td></tr>\n",
       "\t<tr><th scope=row>D</th><td>0.940312893075999</td><td>0.910817350248067</td><td>0.878810716157877</td><td>1                </td><td>0.94770580805211 </td><td>0.901797741123631</td><td>0.864625140108368</td><td>0.894269252031989</td><td>0.946572453704131</td><td>0.942981559160341</td><td>...              </td><td>0.951605283726827</td><td>0.779367052168441</td><td>0.983420206566935</td><td>0.945718580519568</td><td>0.904215287357545</td><td>0.902891173668526</td><td>0.919441952341235</td><td>0.957939543320065</td><td>0.92770546035694 </td><td>0.857547311319533</td></tr>\n",
       "\t<tr><th scope=row>E</th><td>0.968969036868078</td><td>0.970390572536258</td><td>0.90772448231779 </td><td>0.94770580805211 </td><td>1                </td><td>0.953145907002075</td><td>0.916201598081467</td><td>0.946070163328911</td><td>0.964517771887721</td><td>0.944864363547768</td><td>...              </td><td>0.944892529404214</td><td>0.805074457227531</td><td>0.943142732744644</td><td>0.961880062113422</td><td>0.933399290212507</td><td>0.926932249446013</td><td>0.96584692533736 </td><td>0.951340990385789</td><td>0.975613627035745</td><td>0.907489548081418</td></tr>\n",
       "\t<tr><th scope=row>F</th><td>0.962136179182944</td><td>0.942524750578641</td><td>0.907897120197029</td><td>0.901797741123631</td><td>0.953145907002075</td><td>1                </td><td>0.94471302563497 </td><td>0.930422850509009</td><td>0.94861052222383 </td><td>0.922087516582729</td><td>...              </td><td>0.909386381485965</td><td>0.817777941642318</td><td>0.895984729145351</td><td>0.934939666223028</td><td>0.945691087463883</td><td>0.917020726093747</td><td>0.978874598595737</td><td>0.927839051971854</td><td>0.953076694708229</td><td>0.825358314024461</td></tr>\n",
       "</tbody>\n",
       "</table>\n"
      ],
      "text/latex": [
       "\\begin{tabular}{r|llllllllllllllllllllllllll}\n",
       "  & A & B & C & D & E & F & G & H & I & J & ... & Q & R & S & T & U & V & W & X & Y & Z\\\\\n",
       "\\hline\n",
       "\tA & 1                 & 0.947159092562376 & 0.919123317622688 & 0.940312893075999 & 0.968969036868078 & 0.962136179182944 & 0.952981126886564 & 0.916752602844474 & 0.951295122859762 & 0.955163269383225 & ...               & 0.9266419264427   & 0.835195926743581 & 0.936732990299943 & 0.93614632377337  & 0.956156175751354 & 0.966105366098652 & 0.975602495494197 & 0.928043238365868 & 0.961906866425959 & 0.852182433635628\\\\\n",
       "\tB & 0.947159092562376 & 1                 & 0.888810759251452 & 0.910817350248067 & 0.970390572536258 & 0.942524750578641 & 0.929430756040964 & 0.939506723650277 & 0.95983017708102  & 0.904016010919656 & ...               & 0.906692103012125 & 0.807661979991662 & 0.894521959646583 & 0.934705811227172 & 0.935622080511657 & 0.92844037841564  & 0.955305023029676 & 0.904557492037692 & 0.984965603335701 & 0.877175424415441\\\\\n",
       "\tC & 0.919123317622688 & 0.888810759251452 & 1                 & 0.878810716157877 & 0.90772448231779  & 0.907897120197029 & 0.896533083823875 & 0.849149564496211 & 0.866683916456713 & 0.918002233890068 & ...               & 0.856385096673793 & 0.78675070223254  & 0.861003477938746 & 0.871198436128374 & 0.914376990742477 & 0.898373045025782 & 0.914353933678149 & 0.869468454952244 & 0.903726416573883 & 0.777788947841396\\\\\n",
       "\tD & 0.940312893075999 & 0.910817350248067 & 0.878810716157877 & 1                 & 0.94770580805211  & 0.901797741123631 & 0.864625140108368 & 0.894269252031989 & 0.946572453704131 & 0.942981559160341 & ...               & 0.951605283726827 & 0.779367052168441 & 0.983420206566935 & 0.945718580519568 & 0.904215287357545 & 0.902891173668526 & 0.919441952341235 & 0.957939543320065 & 0.92770546035694  & 0.857547311319533\\\\\n",
       "\tE & 0.968969036868078 & 0.970390572536258 & 0.90772448231779  & 0.94770580805211  & 1                 & 0.953145907002075 & 0.916201598081467 & 0.946070163328911 & 0.964517771887721 & 0.944864363547768 & ...               & 0.944892529404214 & 0.805074457227531 & 0.943142732744644 & 0.961880062113422 & 0.933399290212507 & 0.926932249446013 & 0.96584692533736  & 0.951340990385789 & 0.975613627035745 & 0.907489548081418\\\\\n",
       "\tF & 0.962136179182944 & 0.942524750578641 & 0.907897120197029 & 0.901797741123631 & 0.953145907002075 & 1                 & 0.94471302563497  & 0.930422850509009 & 0.94861052222383  & 0.922087516582729 & ...               & 0.909386381485965 & 0.817777941642318 & 0.895984729145351 & 0.934939666223028 & 0.945691087463883 & 0.917020726093747 & 0.978874598595737 & 0.927839051971854 & 0.953076694708229 & 0.825358314024461\\\\\n",
       "\\end{tabular}\n"
      ],
      "text/markdown": [
       "1. 1\n",
       "2. 0.947159092562376\n",
       "3. 0.919123317622688\n",
       "4. 0.940312893075999\n",
       "5. 0.968969036868078\n",
       "6. 0.962136179182944\n",
       "7. 0.947159092562376\n",
       "8. 1\n",
       "9. 0.888810759251452\n",
       "10. 0.910817350248067\n",
       "11. 0.970390572536258\n",
       "12. 0.942524750578641\n",
       "13. 0.919123317622688\n",
       "14. 0.888810759251452\n",
       "15. 1\n",
       "16. 0.878810716157877\n",
       "17. 0.90772448231779\n",
       "18. 0.907897120197029\n",
       "19. 0.940312893075999\n",
       "20. 0.910817350248067\n",
       "21. 0.878810716157877\n",
       "22. 1\n",
       "23. 0.94770580805211\n",
       "24. 0.901797741123631\n",
       "25. 0.968969036868078\n",
       "26. 0.970390572536258\n",
       "27. 0.90772448231779\n",
       "28. 0.94770580805211\n",
       "29. 1\n",
       "30. 0.953145907002075\n",
       "31. 0.962136179182944\n",
       "32. 0.942524750578641\n",
       "33. 0.907897120197029\n",
       "34. 0.901797741123631\n",
       "35. 0.953145907002075\n",
       "36. 1\n",
       "37. 0.952981126886564\n",
       "38. 0.929430756040964\n",
       "39. 0.896533083823875\n",
       "40. 0.864625140108368\n",
       "41. 0.916201598081467\n",
       "42. 0.94471302563497\n",
       "43. 0.916752602844474\n",
       "44. 0.939506723650277\n",
       "45. 0.849149564496211\n",
       "46. 0.894269252031989\n",
       "47. 0.946070163328911\n",
       "48. 0.930422850509009\n",
       "49. 0.951295122859762\n",
       "50. 0.95983017708102\n",
       "51. 0.866683916456713\n",
       "52. 0.946572453704131\n",
       "53. 0.964517771887721\n",
       "54. 0.94861052222383\n",
       "55. 0.955163269383225\n",
       "56. 0.904016010919656\n",
       "57. 0.918002233890068\n",
       "58. 0.942981559160341\n",
       "59. 0.944864363547768\n",
       "60. 0.922087516582729\n",
       "61. 0.957745460625717\n",
       "62. 0.955494985186746\n",
       "63. 0.882513027192795\n",
       "64. 0.949861315978525\n",
       "65. 0.969290723318832\n",
       "66. 0.951366625588582\n",
       "67. 0.952110104038931\n",
       "68. 0.938714932437295\n",
       "69. 0.865326484833197\n",
       "70. 0.937080836773022\n",
       "71. 0.954868175089073\n",
       "72. 0.94212831964753\n",
       "73. 0.966036399681231\n",
       "74. 0.936396633836118\n",
       "75. 0.895038996947241\n",
       "76. 0.967782200656573\n",
       "77. 0.962720439000169\n",
       "78. 0.953311729862285\n",
       "79. 0.925628137369237\n",
       "80. 0.911181514548235\n",
       "81. 0.830850621982148\n",
       "82. 0.910452121303994\n",
       "83. 0.94264376034322\n",
       "84. 0.924332967201606\n",
       "85. 0.950514725446071\n",
       "86. 0.941624692663801\n",
       "87. 0.903348817883385\n",
       "88. 0.942048808566253\n",
       "89. 0.942511079568347\n",
       "90. 0.949596240482979\n",
       "91. 0.958371028852726\n",
       "92. 0.975041502805502\n",
       "93. 0.899874884900034\n",
       "94. 0.919143667491828\n",
       "95. 0.976978960732715\n",
       "96. 0.960387900348527\n",
       "97. 0.9266419264427\n",
       "98. 0.906692103012125\n",
       "99. 0.856385096673793\n",
       "100. 0.951605283726827\n",
       "101. 0.944892529404214\n",
       "102. 0.909386381485965\n",
       "103. 0.835195926743581\n",
       "104. 0.807661979991662\n",
       "105. 0.78675070223254\n",
       "106. 0.779367052168441\n",
       "107. 0.805074457227531\n",
       "108. 0.817777941642318\n",
       "109. 0.936732990299943\n",
       "110. 0.894521959646583\n",
       "111. 0.861003477938746\n",
       "112. 0.983420206566935\n",
       "113. 0.943142732744644\n",
       "114. 0.895984729145351\n",
       "115. 0.93614632377337\n",
       "116. 0.934705811227172\n",
       "117. 0.871198436128374\n",
       "118. 0.945718580519568\n",
       "119. 0.961880062113422\n",
       "120. 0.934939666223028\n",
       "121. 0.956156175751354\n",
       "122. 0.935622080511657\n",
       "123. 0.914376990742477\n",
       "124. 0.904215287357545\n",
       "125. 0.933399290212507\n",
       "126. 0.945691087463883\n",
       "127. 0.966105366098652\n",
       "128. 0.92844037841564\n",
       "129. 0.898373045025782\n",
       "130. 0.902891173668526\n",
       "131. 0.926932249446013\n",
       "132. 0.917020726093747\n",
       "133. 0.975602495494197\n",
       "134. 0.955305023029676\n",
       "135. 0.914353933678149\n",
       "136. 0.919441952341235\n",
       "137. 0.96584692533736\n",
       "138. 0.978874598595737\n",
       "139. 0.928043238365868\n",
       "140. 0.904557492037692\n",
       "141. 0.869468454952244\n",
       "142. 0.957939543320065\n",
       "143. 0.951340990385789\n",
       "144. 0.927839051971854\n",
       "145. 0.961906866425959\n",
       "146. 0.984965603335701\n",
       "147. 0.903726416573883\n",
       "148. 0.92770546035694\n",
       "149. 0.975613627035745\n",
       "150. 0.953076694708229\n",
       "151. 0.852182433635628\n",
       "152. 0.877175424415441\n",
       "153. 0.777788947841396\n",
       "154. 0.857547311319533\n",
       "155. 0.907489548081418\n",
       "156. 0.825358314024461\n",
       "\n",
       "\n"
      ],
      "text/plain": [
       "  A                   B                   C                  \n",
       "A \"1\"                 \"0.947159092562376\" \"0.919123317622688\"\n",
       "B \"0.947159092562376\" \"1\"                 \"0.888810759251452\"\n",
       "C \"0.919123317622688\" \"0.888810759251452\" \"1\"                \n",
       "D \"0.940312893075999\" \"0.910817350248067\" \"0.878810716157877\"\n",
       "E \"0.968969036868078\" \"0.970390572536258\" \"0.90772448231779\" \n",
       "F \"0.962136179182944\" \"0.942524750578641\" \"0.907897120197029\"\n",
       "  D                   E                   F                  \n",
       "A \"0.940312893075999\" \"0.968969036868078\" \"0.962136179182944\"\n",
       "B \"0.910817350248067\" \"0.970390572536258\" \"0.942524750578641\"\n",
       "C \"0.878810716157877\" \"0.90772448231779\"  \"0.907897120197029\"\n",
       "D \"1\"                 \"0.94770580805211\"  \"0.901797741123631\"\n",
       "E \"0.94770580805211\"  \"1\"                 \"0.953145907002075\"\n",
       "F \"0.901797741123631\" \"0.953145907002075\" \"1\"                \n",
       "  G                   H                   I                  \n",
       "A \"0.952981126886564\" \"0.916752602844474\" \"0.951295122859762\"\n",
       "B \"0.929430756040964\" \"0.939506723650277\" \"0.95983017708102\" \n",
       "C \"0.896533083823875\" \"0.849149564496211\" \"0.866683916456713\"\n",
       "D \"0.864625140108368\" \"0.894269252031989\" \"0.946572453704131\"\n",
       "E \"0.916201598081467\" \"0.946070163328911\" \"0.964517771887721\"\n",
       "F \"0.94471302563497\"  \"0.930422850509009\" \"0.94861052222383\" \n",
       "  J                   ...   Q                   R                  \n",
       "A \"0.955163269383225\" \"...\" \"0.9266419264427\"   \"0.835195926743581\"\n",
       "B \"0.904016010919656\" \"...\" \"0.906692103012125\" \"0.807661979991662\"\n",
       "C \"0.918002233890068\" \"...\" \"0.856385096673793\" \"0.78675070223254\" \n",
       "D \"0.942981559160341\" \"...\" \"0.951605283726827\" \"0.779367052168441\"\n",
       "E \"0.944864363547768\" \"...\" \"0.944892529404214\" \"0.805074457227531\"\n",
       "F \"0.922087516582729\" \"...\" \"0.909386381485965\" \"0.817777941642318\"\n",
       "  S                   T                   U                  \n",
       "A \"0.936732990299943\" \"0.93614632377337\"  \"0.956156175751354\"\n",
       "B \"0.894521959646583\" \"0.934705811227172\" \"0.935622080511657\"\n",
       "C \"0.861003477938746\" \"0.871198436128374\" \"0.914376990742477\"\n",
       "D \"0.983420206566935\" \"0.945718580519568\" \"0.904215287357545\"\n",
       "E \"0.943142732744644\" \"0.961880062113422\" \"0.933399290212507\"\n",
       "F \"0.895984729145351\" \"0.934939666223028\" \"0.945691087463883\"\n",
       "  V                   W                   X                  \n",
       "A \"0.966105366098652\" \"0.975602495494197\" \"0.928043238365868\"\n",
       "B \"0.92844037841564\"  \"0.955305023029676\" \"0.904557492037692\"\n",
       "C \"0.898373045025782\" \"0.914353933678149\" \"0.869468454952244\"\n",
       "D \"0.902891173668526\" \"0.919441952341235\" \"0.957939543320065\"\n",
       "E \"0.926932249446013\" \"0.96584692533736\"  \"0.951340990385789\"\n",
       "F \"0.917020726093747\" \"0.978874598595737\" \"0.927839051971854\"\n",
       "  Y                   Z                  \n",
       "A \"0.961906866425959\" \"0.852182433635628\"\n",
       "B \"0.984965603335701\" \"0.877175424415441\"\n",
       "C \"0.903726416573883\" \"0.777788947841396\"\n",
       "D \"0.92770546035694\"  \"0.857547311319533\"\n",
       "E \"0.975613627035745\" \"0.907489548081418\"\n",
       "F \"0.953076694708229\" \"0.825358314024461\""
      ]
     },
     "metadata": {},
     "output_type": "display_data"
    }
   ],
   "source": [
    "head(cor(geneData))"
   ]
  },
  {
   "cell_type": "code",
   "execution_count": 28,
   "metadata": {
    "collapsed": false
   },
   "outputs": [
    {
     "data": {
      "text/plain": [
       "   Min. 1st Qu.  Median    Mean 3rd Qu.    Max. \n",
       "-110.20   22.22   65.89  350.30  180.40 9199.00 "
      ]
     },
     "metadata": {},
     "output_type": "display_data"
    }
   ],
   "source": [
    "summary(geneData[,5])"
   ]
  },
  {
   "cell_type": "code",
   "execution_count": 29,
   "metadata": {
    "collapsed": false
   },
   "outputs": [
    {
     "data": {
      "image/png": "[encoded data removed]",
      "text/plain": [
       "plot without title"
      ]
     },
     "metadata": {
      "image/svg+xml": {
       "isolated": true
      }
     },
     "output_type": "display_data"
    }
   ],
   "source": [
    "plot(geneData[,1], geneData[,5])"
   ]
  },
  {
   "cell_type": "code",
   "execution_count": 30,
   "metadata": {
    "collapsed": true
   },
   "outputs": [],
   "source": [
    "fit.AE <- lm(geneData[,1]~geneData[,5])"
   ]
  },
  {
   "cell_type": "code",
   "execution_count": 31,
   "metadata": {
    "collapsed": false
   },
   "outputs": [
    {
     "data": {
      "text/plain": [
       "\n",
       "Call:\n",
       "lm(formula = geneData[, 1] ~ geneData[, 5])\n",
       "\n",
       "Residuals:\n",
       "     Min       1Q   Median       3Q      Max \n",
       "-1942.72   -16.67     3.68    33.32  1537.94 \n",
       "\n",
       "Coefficients:\n",
       "              Estimate Std. Error t value Pr(>|t|)    \n",
       "(Intercept)   15.71215   10.31041   1.524    0.128    \n",
       "geneData[, 5]  0.90770    0.01038  87.480   <2e-16 ***\n",
       "---\n",
       "Signif. codes:  0 '***' 0.001 '**' 0.01 '*' 0.05 '.' 0.1 ' ' 1\n",
       "\n",
       "Residual standard error: 215.7 on 498 degrees of freedom\n",
       "Multiple R-squared:  0.9389,\tAdjusted R-squared:  0.9388 \n",
       "F-statistic:  7653 on 1 and 498 DF,  p-value: < 2.2e-16\n"
      ]
     },
     "metadata": {},
     "output_type": "display_data"
    }
   ],
   "source": [
    "summary(fit.AE)"
   ]
  },
  {
   "cell_type": "code",
   "execution_count": 32,
   "metadata": {
    "collapsed": false
   },
   "outputs": [
    {
     "data": {
      "text/html": [
       "<table>\n",
       "<thead><tr><th></th><th scope=col>sex</th><th scope=col>type</th><th scope=col>score</th></tr></thead>\n",
       "<tbody>\n",
       "\t<tr><th scope=row>U</th><td>Male   </td><td>Control</td><td>0.35   </td></tr>\n",
       "\t<tr><th scope=row>V</th><td>Female </td><td>Control</td><td>0.77   </td></tr>\n",
       "\t<tr><th scope=row>W</th><td>Male   </td><td>Control</td><td>0.27   </td></tr>\n",
       "\t<tr><th scope=row>X</th><td>Male   </td><td>Control</td><td>0.98   </td></tr>\n",
       "\t<tr><th scope=row>Y</th><td>Female</td><td>Case  </td><td>0.94  </td></tr>\n",
       "\t<tr><th scope=row>Z</th><td>Female</td><td>Case  </td><td>0.32  </td></tr>\n",
       "</tbody>\n",
       "</table>\n"
      ],
      "text/latex": [
       "\\begin{tabular}{r|lll}\n",
       "  & sex & type & score\\\\\n",
       "\\hline\n",
       "\tU & Male    & Control & 0.35   \\\\\n",
       "\tV & Female  & Control & 0.77   \\\\\n",
       "\tW & Male    & Control & 0.27   \\\\\n",
       "\tX & Male    & Control & 0.98   \\\\\n",
       "\tY & Female & Case   & 0.94  \\\\\n",
       "\tZ & Female & Case   & 0.32  \\\\\n",
       "\\end{tabular}\n"
      ],
      "text/plain": [
       "     sex    type score\n",
       "U   Male Control  0.35\n",
       "V Female Control  0.77\n",
       "W   Male Control  0.27\n",
       "X   Male Control  0.98\n",
       "Y Female    Case  0.94\n",
       "Z Female    Case  0.32"
      ]
     },
     "metadata": {},
     "output_type": "display_data"
    }
   ],
   "source": [
    "tail(geneCovariate)"
   ]
  },
  {
   "cell_type": "code",
   "execution_count": 33,
   "metadata": {
    "collapsed": false
   },
   "outputs": [
    {
     "data": {
      "text/html": [
       "<table>\n",
       "<thead><tr><th></th><th scope=col>sex</th><th scope=col>type</th><th scope=col>score</th></tr></thead>\n",
       "<tbody>\n",
       "\t<tr><th scope=row>A</th><td>Female </td><td>Control</td><td>0.75   </td></tr>\n",
       "\t<tr><th scope=row>B</th><td>Male</td><td>Case</td><td>0.4 </td></tr>\n",
       "\t<tr><th scope=row>C</th><td>Male   </td><td>Control</td><td>0.73   </td></tr>\n",
       "\t<tr><th scope=row>D</th><td>Male</td><td>Case</td><td>0.42</td></tr>\n",
       "\t<tr><th scope=row>E</th><td>Female</td><td>Case  </td><td>0.93  </td></tr>\n",
       "\t<tr><th scope=row>F</th><td>Male   </td><td>Control</td><td>0.22   </td></tr>\n",
       "\t<tr><th scope=row>G</th><td>Male</td><td>Case</td><td>0.96</td></tr>\n",
       "\t<tr><th scope=row>H</th><td>Male</td><td>Case</td><td>0.79</td></tr>\n",
       "\t<tr><th scope=row>I</th><td>Female</td><td>Case  </td><td>0.37  </td></tr>\n",
       "\t<tr><th scope=row>J</th><td>Male   </td><td>Control</td><td>0.63   </td></tr>\n",
       "\t<tr><th scope=row>K</th><td>Male</td><td>Case</td><td>0.26</td></tr>\n",
       "\t<tr><th scope=row>L</th><td>Female </td><td>Control</td><td>0.36   </td></tr>\n",
       "\t<tr><th scope=row>M</th><td>Male</td><td>Case</td><td>0.41</td></tr>\n",
       "\t<tr><th scope=row>N</th><td>Male</td><td>Case</td><td>0.8 </td></tr>\n",
       "\t<tr><th scope=row>O</th><td>Female</td><td>Case  </td><td>0.1   </td></tr>\n",
       "\t<tr><th scope=row>P</th><td>Female </td><td>Control</td><td>0.41   </td></tr>\n",
       "\t<tr><th scope=row>Q</th><td>Female</td><td>Case  </td><td>0.16  </td></tr>\n",
       "\t<tr><th scope=row>R</th><td>Male   </td><td>Control</td><td>0.72   </td></tr>\n",
       "\t<tr><th scope=row>S</th><td>Male</td><td>Case</td><td>0.17</td></tr>\n",
       "\t<tr><th scope=row>T</th><td>Female</td><td>Case  </td><td>0.74  </td></tr>\n",
       "\t<tr><th scope=row>U</th><td>Male   </td><td>Control</td><td>0.35   </td></tr>\n",
       "\t<tr><th scope=row>V</th><td>Female </td><td>Control</td><td>0.77   </td></tr>\n",
       "\t<tr><th scope=row>W</th><td>Male   </td><td>Control</td><td>0.27   </td></tr>\n",
       "\t<tr><th scope=row>X</th><td>Male   </td><td>Control</td><td>0.98   </td></tr>\n",
       "\t<tr><th scope=row>Y</th><td>Female</td><td>Case  </td><td>0.94  </td></tr>\n",
       "\t<tr><th scope=row>Z</th><td>Female</td><td>Case  </td><td>0.32  </td></tr>\n",
       "</tbody>\n",
       "</table>\n"
      ],
      "text/latex": [
       "\\begin{tabular}{r|lll}\n",
       "  & sex & type & score\\\\\n",
       "\\hline\n",
       "\tA & Female  & Control & 0.75   \\\\\n",
       "\tB & Male & Case & 0.4 \\\\\n",
       "\tC & Male    & Control & 0.73   \\\\\n",
       "\tD & Male & Case & 0.42\\\\\n",
       "\tE & Female & Case   & 0.93  \\\\\n",
       "\tF & Male    & Control & 0.22   \\\\\n",
       "\tG & Male & Case & 0.96\\\\\n",
       "\tH & Male & Case & 0.79\\\\\n",
       "\tI & Female & Case   & 0.37  \\\\\n",
       "\tJ & Male    & Control & 0.63   \\\\\n",
       "\tK & Male & Case & 0.26\\\\\n",
       "\tL & Female  & Control & 0.36   \\\\\n",
       "\tM & Male & Case & 0.41\\\\\n",
       "\tN & Male & Case & 0.8 \\\\\n",
       "\tO & Female & Case   & 0.1   \\\\\n",
       "\tP & Female  & Control & 0.41   \\\\\n",
       "\tQ & Female & Case   & 0.16  \\\\\n",
       "\tR & Male    & Control & 0.72   \\\\\n",
       "\tS & Male & Case & 0.17\\\\\n",
       "\tT & Female & Case   & 0.74  \\\\\n",
       "\tU & Male    & Control & 0.35   \\\\\n",
       "\tV & Female  & Control & 0.77   \\\\\n",
       "\tW & Male    & Control & 0.27   \\\\\n",
       "\tX & Male    & Control & 0.98   \\\\\n",
       "\tY & Female & Case   & 0.94  \\\\\n",
       "\tZ & Female & Case   & 0.32  \\\\\n",
       "\\end{tabular}\n"
      ],
      "text/plain": [
       "     sex    type score\n",
       "A Female Control  0.75\n",
       "B   Male    Case  0.40\n",
       "C   Male Control  0.73\n",
       "D   Male    Case  0.42\n",
       "E Female    Case  0.93\n",
       "F   Male Control  0.22\n",
       "G   Male    Case  0.96\n",
       "H   Male    Case  0.79\n",
       "I Female    Case  0.37\n",
       "J   Male Control  0.63\n",
       "K   Male    Case  0.26\n",
       "L Female Control  0.36\n",
       "M   Male    Case  0.41\n",
       "N   Male    Case  0.80\n",
       "O Female    Case  0.10\n",
       "P Female Control  0.41\n",
       "Q Female    Case  0.16\n",
       "R   Male Control  0.72\n",
       "S   Male    Case  0.17\n",
       "T Female    Case  0.74\n",
       "U   Male Control  0.35\n",
       "V Female Control  0.77\n",
       "W   Male Control  0.27\n",
       "X   Male Control  0.98\n",
       "Y Female    Case  0.94\n",
       "Z Female    Case  0.32"
      ]
     },
     "metadata": {},
     "output_type": "display_data"
    }
   ],
   "source": [
    "geneCovariate"
   ]
  },
  {
   "cell_type": "code",
   "execution_count": 39,
   "metadata": {
    "collapsed": false
   },
   "outputs": [
    {
     "data": {
      "image/png": "[encoded data removed]",
      "text/plain": [
       "plot without title"
      ]
     },
     "metadata": {
      "image/svg+xml": {
       "isolated": true
      }
     },
     "output_type": "display_data"
    }
   ],
   "source": [
    "plot(geneData[,2],geneData[,9])"
   ]
  },
  {
   "cell_type": "code",
   "execution_count": 35,
   "metadata": {
    "collapsed": false
   },
   "outputs": [
    {
     "data": {
      "text/html": [
       "0.95983017708102"
      ],
      "text/latex": [
       "0.95983017708102"
      ],
      "text/markdown": [
       "0.95983017708102"
      ],
      "text/plain": [
       "[1] 0.9598302"
      ]
     },
     "metadata": {},
     "output_type": "display_data"
    }
   ],
   "source": [
    "cor(geneData[,2],geneData[,9]\n",
    "   )"
   ]
  },
  {
   "cell_type": "code",
   "execution_count": 41,
   "metadata": {
    "collapsed": false
   },
   "outputs": [
    {
     "data": {
      "image/png": "[encoded data removed]",
      "text/plain": [
       "plot without title"
      ]
     },
     "metadata": {
      "image/svg+xml": {
       "isolated": true
      }
     },
     "output_type": "display_data"
    }
   ],
   "source": [
    "correlation <- lm(geneData[,9]~geneData[,2])\n",
    "plot(geneData[,2],geneData[,9])\n",
    "abline(correlation)"
   ]
  },
  {
   "cell_type": "code",
   "execution_count": 37,
   "metadata": {
    "collapsed": false
   },
   "outputs": [
    {
     "data": {
      "text/plain": [
       "\n",
       "Call:\n",
       "lm(formula = geneData[, 9] ~ geneData[, 2])\n",
       "\n",
       "Residuals:\n",
       "    Min      1Q  Median      3Q     Max \n",
       "-3944.0   -26.9    -2.8    23.2  1403.3 \n",
       "\n",
       "Coefficients:\n",
       "              Estimate Std. Error t value Pr(>|t|)    \n",
       "(Intercept)   -0.59571   12.93371  -0.046    0.963    \n",
       "geneData[, 2]  0.95278    0.01248  76.340   <2e-16 ***\n",
       "---\n",
       "Signif. codes:  0 '***' 0.001 '**' 0.01 '*' 0.05 '.' 0.1 ' ' 1\n",
       "\n",
       "Residual standard error: 270.8 on 498 degrees of freedom\n",
       "Multiple R-squared:  0.9213,\tAdjusted R-squared:  0.9211 \n",
       "F-statistic:  5828 on 1 and 498 DF,  p-value: < 2.2e-16\n"
      ]
     },
     "metadata": {},
     "output_type": "display_data"
    }
   ],
   "source": [
    "summary(correlation)"
   ]
  },
  {
   "cell_type": "code",
   "execution_count": 40,
   "metadata": {
    "collapsed": false
   },
   "outputs": [
    {
     "ename": "ERROR",
     "evalue": "Error in int_abline(a = a, b = b, h = h, v = v, untf = untf, ...): plot.new has not been called yet\n",
     "output_type": "error",
     "traceback": [
      "Error in int_abline(a = a, b = b, h = h, v = v, untf = untf, ...): plot.new has not been called yet\nTraceback:\n",
      "1. abline(correlation)",
      "2. int_abline(a = a, b = b, h = h, v = v, untf = untf, ...)"
     ]
    }
   ],
   "source": [
    "abline(correlation)"
   ]
  },
  {
   "cell_type": "code",
   "execution_count": null,
   "metadata": {
    "collapsed": true
   },
   "outputs": [],
   "source": []
  }
 ],
 "metadata": {
  "celltoolbar": "Slideshow",
  "kernelspec": {
   "display_name": "R",
   "language": "R",
   "name": "ir"
  },
  "language_info": {
   "codemirror_mode": "r",
   "file_extension": ".r",
   "mimetype": "text/x-r-source",
   "name": "R",
   "pygments_lexer": "r",
   "version": "3.2.4"
  }
 },
 "nbformat": 4,
 "nbformat_minor": 0
}
